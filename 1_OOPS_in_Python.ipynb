{
  "nbformat": 4,
  "nbformat_minor": 0,
  "metadata": {
    "colab": {
      "provenance": [],
      "authorship_tag": "ABX9TyPpuCuMSbg/bmmNKKlD06EK",
      "include_colab_link": true
    },
    "kernelspec": {
      "name": "python3",
      "display_name": "Python 3"
    },
    "language_info": {
      "name": "python"
    },
    "accelerator": "TPU",
    "gpuClass": "standard"
  },
  "cells": [
    {
      "cell_type": "markdown",
      "metadata": {
        "id": "view-in-github",
        "colab_type": "text"
      },
      "source": [
        "<a href=\"https://colab.research.google.com/github/AKHIL-882/Machine-Learning-Restart/blob/main/1_OOPS_in_Python.ipynb\" target=\"_parent\"><img src=\"https://colab.research.google.com/assets/colab-badge.svg\" alt=\"Open In Colab\"/></a>"
      ]
    },
    {
      "cell_type": "code",
      "execution_count": 1,
      "metadata": {
        "colab": {
          "base_uri": "https://localhost:8080/"
        },
        "id": "HkBFBdYtN8dA",
        "outputId": "deacd9eb-e8ca-4562-a445-74499894c598"
      },
      "outputs": [
        {
          "output_type": "stream",
          "name": "stdout",
          "text": [
            "<__main__.Person object at 0x7f673225f390>\n"
          ]
        }
      ],
      "source": [
        "class Person:\n",
        "  pass\n",
        "\n",
        "p = Person()\n",
        "print(p)"
      ]
    },
    {
      "cell_type": "code",
      "source": [
        "class Person:\n",
        "  name = 'akhil'\n",
        "  def say_hi(self):\n",
        "    print('hello', self.name)\n",
        "\n",
        "  \n",
        "p = Person()\n",
        "p.say_hi()"
      ],
      "metadata": {
        "colab": {
          "base_uri": "https://localhost:8080/"
        },
        "id": "Z1-OSI49QcvD",
        "outputId": "bc264248-5494-4a40-ab25-22922dbde782"
      },
      "execution_count": 2,
      "outputs": [
        {
          "output_type": "stream",
          "name": "stdout",
          "text": [
            "hello akhil\n"
          ]
        }
      ]
    },
    {
      "cell_type": "code",
      "source": [
        "class Person:\n",
        "  def __init__(self,name):\n",
        "    self.name = name \n",
        "\n",
        "  def say_hi(self):\n",
        "    print('hello', self.name)\n",
        "\n",
        "  \n",
        "p = Person('akhil')\n",
        "p.say_hi()"
      ],
      "metadata": {
        "id": "WsWXvzfLReuC",
        "outputId": "60d777d6-c5d9-4c17-8d29-650ea5ad24af",
        "colab": {
          "base_uri": "https://localhost:8080/"
        }
      },
      "execution_count": 6,
      "outputs": [
        {
          "output_type": "stream",
          "name": "stdout",
          "text": [
            "hello akhil\n"
          ]
        }
      ]
    },
    {
      "cell_type": "code",
      "source": [],
      "metadata": {
        "id": "fFeYggKJRzVy"
      },
      "execution_count": 5,
      "outputs": []
    }
  ]
}